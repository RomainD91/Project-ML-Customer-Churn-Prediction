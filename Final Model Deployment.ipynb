{
 "cells": [
  {
   "cell_type": "markdown",
   "id": "1226bb23-8b7d-41f2-af3c-5df8df9914b7",
   "metadata": {},
   "source": [
    "# LIBRARIES"
   ]
  },
  {
   "cell_type": "code",
   "execution_count": 1,
   "id": "e6b197f2-f3a3-485a-b3bc-12307e93d634",
   "metadata": {
    "collapsed": true,
    "jupyter": {
     "outputs_hidden": true,
     "source_hidden": true
    }
   },
   "outputs": [
    {
     "name": "stdout",
     "output_type": "stream",
     "text": [
      "The history saving thread hit an unexpected error (OperationalError('attempt to write a readonly database')).History will not be written to the database.\n"
     ]
    }
   ],
   "source": [
    "import joblib\n",
    "from sklearn.base import BaseEstimator, ClassifierMixin\n",
    "from sklearn.metrics import f1_score, recall_score\n",
    "from sklearn.pipeline import make_pipeline\n",
    "from sklearn.linear_model import LogisticRegression"
   ]
  },
  {
   "cell_type": "markdown",
   "id": "de5ba251-7196-4bb6-97ff-e9c20998689b",
   "metadata": {},
   "source": [
    "# WRAPPER CLASS"
   ]
  },
  {
   "cell_type": "code",
   "execution_count": 14,
   "id": "17a5b862-5577-4b50-888e-f713a23f12be",
   "metadata": {
    "jupyter": {
     "source_hidden": true
    }
   },
   "outputs": [],
   "source": [
    "#Define a Wrapper Class \n",
    "class LogisticRegressionWrapper(BaseEstimator, ClassifierMixin):\n",
    "    def __init__(self, pipeline, threshold=-0.2):\n",
    "        self.pipeline = pipeline\n",
    "        self.threshold = threshold\n",
    "    \n",
    "    def fit(self, X, y):\n",
    "        self.pipeline.fit(X, y)\n",
    "        return self\n",
    "    \n",
    "    def predict(self, X):\n",
    "        return self.pipeline.predict(X)\n",
    "    \n",
    "    def decision_function(self, X):\n",
    "        return self.pipeline.decision_function(X)\n",
    "    \n",
    "    def predict_with_threshold(self, X):\n",
    "        return self.decision_function(X) > self.threshold\n",
    "\n",
    "    def set_threshold(self, threshold):\n",
    "        self.threshold = threshold\n",
    "    \n",
    "    def save_model(self, filename):\n",
    "        joblib.dump(self, filename)\n",
    "    \n",
    "    @staticmethod\n",
    "    def load_model(filename):\n",
    "        return joblib.load(filename)"
   ]
  },
  {
   "cell_type": "markdown",
   "id": "ad9692d9-314d-4d3e-952f-ec91e148a521",
   "metadata": {},
   "source": [
    "# LOAD MODEL & DATA"
   ]
  },
  {
   "cell_type": "code",
   "execution_count": 33,
   "id": "2444c2e1-48b3-4aaf-8ffd-36eb5fd443b6",
   "metadata": {
    "jupyter": {
     "source_hidden": true
    }
   },
   "outputs": [
    {
     "name": "stdout",
     "output_type": "stream",
     "text": [
      "Loaded Model - f1_score: 0.6110531803962461\n",
      "Loaded Model - recall_score: 0.7961956521739131\n",
      "Loaded Model with threshold - f1_score: 0.5721694036300777\n",
      "Loaded Model with threshold - recall_score: 0.8994565217391305\n"
     ]
    }
   ],
   "source": [
    "# Load X_test from the saved file\n",
    "X_test = joblib.load('X_test.pkl')\n",
    "\n",
    "# Load y_test if needed\n",
    "y_test = joblib.load('y_test.pkl')\n",
    "\n",
    "\n",
    "# Load the model from the saved file\n",
    "loaded_model = LogisticRegressionWrapper.load_model('logistic_regression_model.pkl')\n",
    "\n",
    "# Example data for making predictions\n",
    "y_pred_loaded = loaded_model.predict(X_test)\n",
    "y_pred_loaded_t = loaded_model.predict_with_threshold(X_test)\n",
    "\n",
    "\n",
    "# Print the F1 score and recall score of the predictions\n",
    "print(f'Loaded Model - f1_score: {f1_score(y_test, y_pred_loaded)}')\n",
    "print(f'Loaded Model - recall_score: {recall_score(y_test, y_pred_loaded)}')\n",
    "\n",
    "print(f'Loaded Model with threshold - f1_score: {f1_score(y_test, y_pred_loaded_t)}')\n",
    "print(f'Loaded Model with threshold - recall_score: {recall_score(y_test, y_pred_loaded_t)}')"
   ]
  }
 ],
 "metadata": {
  "kernelspec": {
   "display_name": "Python 3 (ipykernel)",
   "language": "python",
   "name": "python3"
  },
  "language_info": {
   "codemirror_mode": {
    "name": "ipython",
    "version": 3
   },
   "file_extension": ".py",
   "mimetype": "text/x-python",
   "name": "python",
   "nbconvert_exporter": "python",
   "pygments_lexer": "ipython3",
   "version": "3.9.19"
  }
 },
 "nbformat": 4,
 "nbformat_minor": 5
}
